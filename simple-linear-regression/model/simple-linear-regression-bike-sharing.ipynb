{
 "cells": [
  {
   "cell_type": "code",
   "execution_count": 16,
   "metadata": {},
   "outputs": [],
   "source": [
    "# import library\n",
    "import numpy as np\n",
    "import matplotlib.pyplot as plt"
   ]
  },
  {
   "cell_type": "code",
   "execution_count": 17,
   "metadata": {
    "scrolled": true
   },
   "outputs": [
    {
     "name": "stdout",
     "output_type": "stream",
     "text": [
      "[[16. 15. 16. 10. 16. 13.  9. 19. 10. 12. 15. 10. 16. 26. 18. 16. 20. 15.\n",
      "  10. 25. 17.  9. 21.  7.  8. 13. 18.  7. 12. 18. 19. 19. 11. 12. 19. 21.\n",
      "  21. 19. 16. 10. 13. 20.  7.  8. 15. 13. 11. 14. 16. 21. 15. 12. 17. 24.\n",
      "  17. 21. 17. 14. 24. 12. 15. 16. 17. 18. 24. 16. 15. 23. 23. 21. 13.  9.\n",
      "  13. 11.  8. 15. 16. 12. 14. 21.]]\n",
      "[[40. 52. 48. 37. 48. 37. 37. 40. 38. 29. 42. 38. 52. 57. 47. 46. 53. 32.\n",
      "  43. 63. 44. 35. 43. 43. 37. 35. 45. 37. 40. 54. 40. 51. 39. 44. 43. 49.\n",
      "  62. 60. 45. 34. 49. 44. 35. 26. 45. 42. 43. 40. 49. 52. 42. 35. 43. 51.\n",
      "  41. 51. 52. 44. 54. 38. 48. 45. 37. 50. 62. 57. 41. 47. 49. 52. 32. 33.\n",
      "  44. 43. 31. 43. 42. 42. 47. 61.]]\n"
     ]
    }
   ],
   "source": [
    "# train set\n",
    "x_train = np.array([[16., 15., 16., 10., 16., 13.,  9., 19., 10., 12., 15., 10., 16., 26., 18., 16., 20., 15.,\n",
    "  10., 25., 17.,  9., 21.,  7.,  8., 13., 18.,  7., 12., 18., 19., 19., 11., 12., 19., 21.,\n",
    "  21., 19., 16., 10., 13., 20.,  7.,  8., 15., 13., 11., 14., 16., 21., 15., 12., 17., 24.,\n",
    "  17., 21., 17., 14., 24., 12., 15., 16., 17., 18., 24., 16., 15., 23., 23., 21., 13.,  9.,\n",
    "  13., 11.,  8., 15., 16., 12., 14., 21.]])\n",
    "y_train = np.array([[40., 52., 48., 37., 48., 37., 37., 40., 38., 29., 42., 38., 52., 57., 47., 46., 53., 32.,\n",
    " 43., 63., 44., 35., 43., 43., 37., 35., 45., 37., 40., 54., 40., 51., 39., 44., 43., 49.,\n",
    " 62., 60., 45., 34., 49., 44., 35., 26., 45., 42., 43., 40., 49., 52., 42., 35., 43., 51.,\n",
    " 41., 51., 52., 44., 54., 38., 48., 45., 37., 50., 62., 57., 41., 47., 49., 52., 32., 33.,\n",
    " 44., 43., 31., 43., 42., 42., 47., 61.]])\n",
    "print(x_train)\n",
    "print(y_train)"
   ]
  },
  {
   "cell_type": "code",
   "execution_count": 18,
   "metadata": {
    "scrolled": true
   },
   "outputs": [
    {
     "name": "stdout",
     "output_type": "stream",
     "text": [
      "[[13.  5. 17. 15. 10. 23. 18. 12. 22. 14.  9. 14. 14. 20. 11. 19. 10. 13.\n",
      "  11. 16.]]\n",
      "[[44. 23. 47. 38. 32. 48. 40. 45. 50. 36. 37. 48. 46. 57. 42. 50. 44. 42.\n",
      "  45. 46.]]\n"
     ]
    }
   ],
   "source": [
    "# test set\n",
    "x_test = np.array([[13.,  5., 17., 15., 10., 23., 18., 12., 22., 14.,  9., 14., 14., 20., 11., 19., 10., 13., 11., 16.]])\n",
    "y_test = np.array([[44., 23., 47., 38., 32., 48., 40., 45., 50., 36., 37., 48., 46., 57., 42., 50., 44., 42., 45., 46.]])\n",
    "print(x_test)\n",
    "print(y_test)"
   ]
  },
  {
   "cell_type": "code",
   "execution_count": 19,
   "metadata": {},
   "outputs": [
    {
     "data": {
      "text/plain": [
       "<matplotlib.legend.Legend at 0x17e53e2a208>"
      ]
     },
     "execution_count": 19,
     "metadata": {},
     "output_type": "execute_result"
    },
    {
     "data": {
      "image/png": "[encoded data removed]",
      "text/plain": [
       "<Figure size 432x288 with 1 Axes>"
      ]
     },
     "metadata": {
      "needs_background": "light"
     },
     "output_type": "display_data"
    }
   ],
   "source": [
    "# plot train set and test set\n",
    "plt.scatter(x_train, y_train, label='Train set')\n",
    "plt.scatter(x_test, y_test, label='Test set')\n",
    "plt.xlim(0, 30)\n",
    "plt.ylim(0, 100)\n",
    "plt.title('Correlation between temperature and bike rentals')\n",
    "plt.xlabel('Temperature $[^{\\circ}C]$')\n",
    "plt.ylabel('Bike-sharing users')\n",
    "plt.legend()"
   ]
  },
  {
   "cell_type": "code",
   "execution_count": 20,
   "metadata": {},
   "outputs": [],
   "source": [
    "# declare theta_0 and theta_1\n",
    "theta_0 = 0\n",
    "theta_1 = 0"
   ]
  },
  {
   "cell_type": "code",
   "execution_count": 21,
   "metadata": {},
   "outputs": [],
   "source": [
    "# define the hypothesis function\n",
    "def hypothesis(x):\n",
    "  return theta_0 + theta_1*x"
   ]
  },
  {
   "cell_type": "code",
   "execution_count": 22,
   "metadata": {},
   "outputs": [],
   "source": [
    "# define the gradient descent function\n",
    "def gradient_descent(x, y, iter, alpha):\n",
    "  global theta_0\n",
    "  global theta_1\n",
    "\n",
    "  for i in range(iter):\n",
    "    # calculate hypothesis\n",
    "    h = hypothesis(x)\n",
    "\n",
    "    # calculate error\n",
    "    e = h - y\n",
    "    \n",
    "    # calculate d_J/d_theta_0\n",
    "    sum_e = np.sum(e)\n",
    "    d_J_d_theta_0 = sum_e / 80\n",
    "\n",
    "    # calculate d_J/d_theta_1\n",
    "    e_mul_x = e * x\n",
    "    sum_e_mul_x = np.sum(e_mul_x)\n",
    "    d_J_d_theta_1 = sum_e_mul_x / 80\n",
    "\n",
    "    # update theta 0\n",
    "    theta_0 = theta_0 - alpha*d_J_d_theta_0;\n",
    "\n",
    "    # update theta 1\n",
    "    theta_1 = theta_1 - alpha*d_J_d_theta_1;\n",
    "\n",
    "  return"
   ]
  },
  {
   "cell_type": "code",
   "execution_count": 23,
   "metadata": {},
   "outputs": [
    {
     "name": "stdout",
     "output_type": "stream",
     "text": [
      "22.84504560195758\n",
      "1.3762773490167597\n"
     ]
    }
   ],
   "source": [
    "# run gradient descent\n",
    "gradient_descent(x_train, y_train, 10000, 0.003)\n",
    "print(theta_0)\n",
    "print(theta_1)"
   ]
  },
  {
   "cell_type": "code",
   "execution_count": 25,
   "metadata": {},
   "outputs": [],
   "source": [
    "# data for plotting hypothesis function \n",
    "x_trained_model = np.arange(0, 31)\n",
    "y_trained_model = hypothesis(x_trained_model)"
   ]
  },
  {
   "cell_type": "code",
   "execution_count": 26,
   "metadata": {},
   "outputs": [
    {
     "data": {
      "text/plain": [
       "<matplotlib.legend.Legend at 0x17e53d68748>"
      ]
     },
     "execution_count": 26,
     "metadata": {},
     "output_type": "execute_result"
    },
    {
     "data": {
      "image/png": "[encoded data removed]",
      "text/plain": [
       "<Figure size 432x288 with 1 Axes>"
      ]
     },
     "metadata": {
      "needs_background": "light"
     },
     "output_type": "display_data"
    }
   ],
   "source": [
    "# plot hypothesis function \n",
    "plt.scatter(x_train, y_train, label='Train set')\n",
    "plt.scatter(x_test, y_test, label='Test set')\n",
    "plt.plot(x_trained_model, y_trained_model, '--r', label='$h_{\\\\theta}(x)$')\n",
    "plt.xlim(0, 30)\n",
    "plt.ylim(0, 100)\n",
    "plt.title('Correlation between temperature and bike rentals')\n",
    "plt.xlabel('Temperature $[^{\\circ}C]$')\n",
    "plt.ylabel('Bike-sharing users')\n",
    "plt.legend()"
   ]
  },
  {
   "cell_type": "code",
   "execution_count": 27,
   "metadata": {},
   "outputs": [
    {
     "name": "stdout",
     "output_type": "stream",
     "text": [
      "[[40.73665114 29.72643235 46.24176054 43.48920584 36.60781909 54.49942463\n",
      "  47.61803788 39.36037379 53.12314728 42.11292849 35.23154174 42.11292849\n",
      "  42.11292849 50.37059258 37.98409644 48.99431523 36.60781909 40.73665114\n",
      "  37.98409644 44.86548319]]\n"
     ]
    }
   ],
   "source": [
    "# make prediction\n",
    "y_predict = hypothesis(x_test)\n",
    "print(y_predict)"
   ]
  },
  {
   "cell_type": "code",
   "execution_count": 32,
   "metadata": {},
   "outputs": [
    {
     "data": {
      "text/plain": [
       "<matplotlib.legend.Legend at 0x17e53da0808>"
      ]
     },
     "execution_count": 32,
     "metadata": {},
     "output_type": "execute_result"
    },
    {
     "data": {
      "image/png": "[encoded data removed]",
      "text/plain": [
       "<Figure size 432x288 with 1 Axes>"
      ]
     },
     "metadata": {
      "needs_background": "light"
     },
     "output_type": "display_data"
    }
   ],
   "source": [
    "# plot prediction result\n",
    "plt.scatter(x_test, y_test, label='Test set')\n",
    "plt.scatter(x_test, y_predict, label='Prediction')\n",
    "plt.xlim(0, 30)\n",
    "plt.ylim(0, 100)\n",
    "plt.title('Correlation between temperature and bike rentals')\n",
    "plt.xlabel('Temperature $[^{\\circ}C]$')\n",
    "plt.ylabel('Bike-sharing users')\n",
    "plt.legend()"
   ]
  },
  {
   "cell_type": "code",
   "execution_count": 29,
   "metadata": {},
   "outputs": [],
   "source": [
    "# define normal equation function\n",
    "def normal_equation(x_train, y_train):\n",
    "  X_b = np.c_[np.ones((80, 1)), x_train.reshape(-1, 1)]\n",
    "  y = y_train.reshape(-1, 1)\n",
    "  X_transpose = X_b.T\n",
    "  theta = np.linalg.inv(X_transpose.dot(X_b)).dot(X_transpose).dot(y)\n",
    "  return theta"
   ]
  },
  {
   "cell_type": "code",
   "execution_count": 31,
   "metadata": {},
   "outputs": [
    {
     "data": {
      "text/plain": [
       "array([[24.9146065 ],\n",
       "       [ 1.25330484]])"
      ]
     },
     "execution_count": 31,
     "metadata": {},
     "output_type": "execute_result"
    }
   ],
   "source": [
    "# solve theta_0 and theta_1 using normal equation\n",
    "normal_equation(x_train, y_train)"
   ]
  },
  {
   "cell_type": "code",
   "execution_count": null,
   "metadata": {},
   "outputs": [],
   "source": []
  }
 ],
 "metadata": {
  "kernelspec": {
   "display_name": "Python 3",
   "language": "python",
   "name": "python3"
  },
  "language_info": {
   "codemirror_mode": {
    "name": "ipython",
    "version": 3
   },
   "file_extension": ".py",
   "mimetype": "text/x-python",
   "name": "python",
   "nbconvert_exporter": "python",
   "pygments_lexer": "ipython3",
   "version": "3.7.4"
  }
 },
 "nbformat": 4,
 "nbformat_minor": 2
}
